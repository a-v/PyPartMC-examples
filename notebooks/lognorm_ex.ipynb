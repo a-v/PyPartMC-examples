{
 "cells": [
  {
   "cell_type": "code",
   "execution_count": 2,
   "id": "56fd1c71",
   "metadata": {},
   "outputs": [
    {
     "data": {
      "application/vnd.jupyter.widget-view+json": {
       "model_id": "64dba775785e4da7bb4d1d33288bbc99",
       "version_major": 2,
       "version_minor": 0
      },
      "text/plain": [
       "FloatSlider(value=0.0, description='RH [%]:')"
      ]
     },
     "metadata": {},
     "output_type": "display_data"
    },
    {
     "data": {
      "application/vnd.jupyter.widget-view+json": {
       "model_id": "2f5922f09d534c999a23622024ff8368",
       "version_major": 2,
       "version_minor": 0
      },
      "text/plain": [
       "VBox(children=(VBox(children=(HBox(children=(Label(value='Mode 1 Number [#/cc]:'), IntSlider(value=50000, max=…"
      ]
     },
     "metadata": {},
     "output_type": "display_data"
    },
    {
     "data": {
      "application/vnd.jupyter.widget-view+json": {
       "model_id": "b80913e9e1ca48cf9544e06431fc410c",
       "version_major": 2,
       "version_minor": 0
      },
      "text/plain": [
       "Button(description='Calculate', style=ButtonStyle())"
      ]
     },
     "metadata": {},
     "output_type": "display_data"
    },
    {
     "data": {
      "image/png": "[encoded data removed]",
      "text/plain": [
       "<Figure size 432x288 with 1 Axes>"
      ]
     },
     "metadata": {
      "needs_background": "light"
     },
     "output_type": "display_data"
    }
   ],
   "source": [
    "import ipywidgets as widgets\n",
    "import numpy as np\n",
    "from collections import namedtuple\n",
    "from matplotlib import pyplot\n",
    "from IPython.display import display\n",
    "from PyPartMC import si\n",
    "\n",
    "humidity_widget = widgets.FloatSlider(description='RH [%]:', min=0, max=100)\n",
    "display(humidity_widget)\n",
    "\n",
    "mode_1_n_per_cc = widgets.IntSlider(min=0, max=100000, value=50000)\n",
    "h11 = widgets.HBox([widgets.Label(value='Mode 1 Number [#/cc]:'), mode_1_n_per_cc])\n",
    " \n",
    "mode_1_gsd = widgets.FloatSlider(min=1.1, max=5, value=1.3)\n",
    "h12 = widgets.HBox([widgets.Label(value='Mode 1 Geometric Standard Deviation:'), mode_1_gsd])\n",
    " \n",
    "mode_1_gm_microns = widgets.FloatSlider(min=0.001, max=10, value=0.9, readout_format='.3f')\n",
    "h13 = widgets.HBox([widgets.Label(value='Mode 1 Geometric Mean [microns]:'), mode_1_gm_microns])\n",
    "\n",
    "mode_2_n_per_cc = widgets.IntSlider(min=0, max=100000, value=80000)\n",
    "h21 = widgets.HBox([widgets.Label(value='Mode 2 Number [#/cc]:'), mode_2_n_per_cc])\n",
    "\n",
    "mode_2_gsd = widgets.FloatSlider(min=1.1, max=5, value=2)\n",
    "h22 = widgets.HBox([widgets.Label(value='Mode 2 Geometric Standard Deviation:'), mode_2_gsd])\n",
    "\n",
    "mode_2_gm_microns = widgets.FloatSlider(min=0.001, max=10, value=5.8, readout_format='.3f')\n",
    "h23 = widgets.HBox([widgets.Label(value='Mode 2 Geometric Mean [microns]:'), mode_2_gm_microns])\n",
    "\n",
    "v1 = widgets.VBox([h11, h12, h13])\n",
    "v2 = widgets.VBox([h21, h22, h23])\n",
    "\n",
    "button = widgets.Button(description='Calculate')\n",
    "\n",
    "def ln_norm():\n",
    "    Mode = namedtuple(\"Mode\", (\"norm_factor\", \"geom_mean\", \"geom_stdev\"))\n",
    "    modes = (\n",
    "        Mode(norm_factor=mode_1_n_per_cc.value/si.cm**3, geom_mean=mode_1_gm_microns.value*si.um, geom_stdev=mode_1_gsd.value),\n",
    "        Mode(norm_factor=mode_2_n_per_cc.value/si.cm**3, geom_mean=mode_2_gm_microns.value*si.um, geom_stdev=mode_2_gsd.value)\n",
    "    )\n",
    "    \n",
    "    x = np.linspace(0.1*si.um,10*si.um, 100)\n",
    "\n",
    "    lognormal = lambda x, num, gm, gsd: x * ((num / (np.sqrt(2*np.pi)*x*np.log(gsd))) * \\\n",
    "         np.exp(-(np.log(x) - np.log(gm))** 2 / (2*np.log(gsd)** 2)))\n",
    "    \n",
    "    fig = pyplot.figure()\n",
    "    \n",
    "    fig.add_subplot(xscale='log')\n",
    "    \n",
    "    pyplot.plot(x, lognormal(x, *modes[0]))\n",
    "    pyplot.plot(x, lognormal(x, *modes[1]))\n",
    "    pyplot.show()\n",
    "\n",
    "def on_button_clicked(_):\n",
    "    ln_norm()\n",
    "\n",
    "V = widgets.VBox([v1, v2])\n",
    "display(V)\n",
    "display(button)\n",
    "\n",
    "button.on_click(on_button_clicked)"
   ]
  },
  {
   "cell_type": "code",
   "execution_count": null,
   "id": "0fe2617d",
   "metadata": {},
   "outputs": [],
   "source": []
  }
 ],
 "metadata": {
  "kernelspec": {
   "display_name": "Python 3 (ipykernel)",
   "language": "python",
   "name": "python3"
  },
  "language_info": {
   "codemirror_mode": {
    "name": "ipython",
    "version": 3
   },
   "file_extension": ".py",
   "mimetype": "text/x-python",
   "name": "python",
   "nbconvert_exporter": "python",
   "pygments_lexer": "ipython3",
   "version": "3.10.0"
  },
  "vscode": {
   "interpreter": {
    "hash": "aee8b7b246df8f9039afb4144a1f6fd8d2ca17a180786b69acc140d282b71a49"
   }
  }
 },
 "nbformat": 4,
 "nbformat_minor": 5
}
