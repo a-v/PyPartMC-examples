{
 "cells": [
  {
   "cell_type": "code",
   "execution_count": 121,
   "id": "56fd1c71",
   "metadata": {},
   "outputs": [
    {
     "data": {
      "application/vnd.jupyter.widget-view+json": {
       "model_id": "dc04b0677c2a441ba69fcd5cd3469358",
       "version_major": 2,
       "version_minor": 0
      },
      "text/plain": [
       "FloatSlider(value=0.0, description='RH [%]:')"
      ]
     },
     "metadata": {},
     "output_type": "display_data"
    },
    {
     "data": {
      "application/vnd.jupyter.widget-view+json": {
       "model_id": "c68b61307ae64715ad3bfccc1ccf7262",
       "version_major": 2,
       "version_minor": 0
      },
      "text/plain": [
       "VBox(children=(VBox(children=(HBox(children=(Label(value='Mode 1 Number:'), IntSlider(value=50000, max=100000)…"
      ]
     },
     "metadata": {},
     "output_type": "display_data"
    },
    {
     "data": {
      "application/vnd.jupyter.widget-view+json": {
       "model_id": "4cc688b7d333472db5e02f1e114de495",
       "version_major": 2,
       "version_minor": 0
      },
      "text/plain": [
       "Button(description='Calculate', style=ButtonStyle())"
      ]
     },
     "metadata": {},
     "output_type": "display_data"
    }
   ],
   "source": [
    "import ipywidgets as widgets\n",
    "import numpy as np\n",
    "from matplotlib import pyplot\n",
    "from IPython.display import display\n",
    "\n",
    "humidity_widget = widgets.FloatSlider(description='RH [%]:', min=0, max=100)\n",
    "display(humidity_widget)\n",
    "\n",
    "mode_1_N = widgets.IntSlider(min=0, max=100000, value=50000)\n",
    "h11 = widgets.HBox([widgets.Label(value='Mode 1 Number:'), mode_1_N])\n",
    " \n",
    "mode_1_gsd = widgets.FloatSlider(min=1.1, max=5, value=1.3)\n",
    "h12 = widgets.HBox([widgets.Label(value='Mode 1 Geometric Standard Deviation:'), mode_1_gsd])\n",
    " \n",
    "mode_1_gm = widgets.FloatSlider(min=0.001, max=10, value=0.9, readout_format='.3f')\n",
    "h13 = widgets.HBox([widgets.Label(value='Mode 1 Geometric Mean [microns]:'), mode_1_gm])\n",
    "\n",
    "mode_2_N = widgets.IntSlider(min=0, max=100000, value=80000)\n",
    "h21 = widgets.HBox([widgets.Label(value='Mode 2 Number:'), mode_2_N])\n",
    "\n",
    "mode_2_gsd = widgets.FloatSlider(min=1.1, max=5, value=2)\n",
    "h22 = widgets.HBox([widgets.Label(value='Mode 2 Geometric Standard Deviation:'), mode_2_gsd])\n",
    "\n",
    "mode_2_gm = widgets.FloatSlider(min=0.001, max=10, value=5.8, readout_format='.3f')\n",
    "h23 = widgets.HBox([widgets.Label(value='Mode 2 Geometric Mean [microns]:'), mode_2_gm])\n",
    "\n",
    "v1 = widgets.VBox([h11, h12, h13])\n",
    "v2 = widgets.VBox([h21, h22, h23])\n",
    "\n",
    "button = widgets.Button(description='Calculate')\n",
    "\n",
    "def ln_norm():\n",
    "    m1_num = mode_1_N.value\n",
    "    m2_num = mode_2_N.value\n",
    "    m1_gsd = mode_1_gsd.value\n",
    "    m2_gsd = mode_2_gsd.value\n",
    "    m1_gm = mode_1_gm.value\n",
    "    m2_gm = mode_2_gm.value\n",
    "    \n",
    "    m1_dp = np.linspace(0.1,10,m1_num)\n",
    "    m2_dp = np.linspace(0.1,10,m2_num)\n",
    "    \n",
    "    m1_N_lndp = m1_dp * ((m1_num / (np.sqrt(2*np.pi)*m1_dp*np.log(m1_gsd))) * \\\n",
    "        np.exp(-(np.log(m1_dp) - np.log(m1_gm))** 2 / (2*np.log(m1_gsd)** 2)))\n",
    "    \n",
    "    m2_N_lndp = m2_dp * ((m2_num / (np.sqrt(2*np.pi)*m2_dp*np.log(m2_gsd))) * \\\n",
    "    np.exp(-(np.log(m2_dp) - np.log(m2_gm))** 2 / (2*np.log(m2_gsd)** 2)))\n",
    "    \n",
    "    fig = pyplot.figure()\n",
    "    \n",
    "    fig.add_subplot(xscale='log')\n",
    "    \n",
    "    pyplot.plot(m1_dp, m1_N_lndp)\n",
    "    pyplot.plot(m2_dp, m2_N_lndp)\n",
    "\n",
    "def on_button_clicked(_):\n",
    "    ln_norm()\n",
    "\n",
    "V = widgets.VBox([v1, v2])\n",
    "display(V)\n",
    "display(button)\n",
    "\n",
    "button.on_click(on_button_clicked)"
   ]
  },
  {
   "cell_type": "code",
   "execution_count": null,
   "id": "0fe2617d",
   "metadata": {},
   "outputs": [],
   "source": []
  }
 ],
 "metadata": {},
 "nbformat": 4,
 "nbformat_minor": 5
}
